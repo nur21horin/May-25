{
  "nbformat": 4,
  "nbformat_minor": 0,
  "metadata": {
    "colab": {
      "provenance": [],
      "include_colab_link": true
    },
    "kernelspec": {
      "name": "python3",
      "display_name": "Python 3"
    },
    "language_info": {
      "name": "python"
    }
  },
  "cells": [
    {
      "cell_type": "markdown",
      "metadata": {
        "id": "view-in-github",
        "colab_type": "text"
      },
      "source": [
        "<a href=\"https://colab.research.google.com/github/nur21horin/May-25/blob/main/Untitled0.ipynb\" target=\"_parent\"><img src=\"https://colab.research.google.com/assets/colab-badge.svg\" alt=\"Open In Colab\"/></a>"
      ]
    },
    {
      "cell_type": "markdown",
      "source": [
        "NUR MOHAMMOD\n"
      ],
      "metadata": {
        "id": "MeRmri3gcpfT"
      }
    },
    {
      "cell_type": "markdown",
      "source": [],
      "metadata": {
        "id": "04E1YBZKcniO"
      }
    },
    {
      "cell_type": "code",
      "execution_count": null,
      "metadata": {
        "colab": {
          "base_uri": "https://localhost:8080/",
          "height": 53
        },
        "id": "Vmvu16YlHjan",
        "outputId": "0bbe33b7-a54c-4b9e-e9b5-f75dd145558c"
      },
      "outputs": [
        {
          "name": "stdout",
          "output_type": "stream",
          "text": [
            "Enter your age23\n"
          ]
        },
        {
          "output_type": "execute_result",
          "data": {
            "text/plain": [
              "'23'"
            ],
            "application/vnd.google.colaboratory.intrinsic+json": {
              "type": "string"
            }
          },
          "metadata": {},
          "execution_count": 1
        }
      ],
      "source": [
        "input(\"Enter your age\")"
      ]
    },
    {
      "cell_type": "code",
      "source": [
        "age=input(\"ENter your age:\")\n",
        "print(\"Your age is\",age)\n"
      ],
      "metadata": {
        "colab": {
          "base_uri": "https://localhost:8080/"
        },
        "id": "ArrKxJ7RHwiH",
        "outputId": "ab8a646c-5fde-4e78-aa8c-7abdd1f93a71"
      },
      "execution_count": null,
      "outputs": [
        {
          "output_type": "stream",
          "name": "stdout",
          "text": [
            "ENter your age:23\n",
            "Your age is 23\n"
          ]
        }
      ]
    },
    {
      "cell_type": "code",
      "source": [
        "type(age)"
      ],
      "metadata": {
        "colab": {
          "base_uri": "https://localhost:8080/"
        },
        "id": "bqpJNQ7lInkl",
        "outputId": "efff736e-b327-44dc-ab27-d9ef60ad6631"
      },
      "execution_count": null,
      "outputs": [
        {
          "output_type": "execute_result",
          "data": {
            "text/plain": [
              "str"
            ]
          },
          "metadata": {},
          "execution_count": 3
        }
      ]
    },
    {
      "cell_type": "code",
      "source": [
        "print(4==5)"
      ],
      "metadata": {
        "colab": {
          "base_uri": "https://localhost:8080/"
        },
        "id": "xJMI4lz1JoBF",
        "outputId": "8ead7072-5335-483f-c040-97126bac41b6"
      },
      "execution_count": null,
      "outputs": [
        {
          "output_type": "stream",
          "name": "stdout",
          "text": [
            "False\n"
          ]
        }
      ]
    },
    {
      "cell_type": "code",
      "source": [
        "print(5==5)"
      ],
      "metadata": {
        "colab": {
          "base_uri": "https://localhost:8080/"
        },
        "id": "PUvnqq3LJstw",
        "outputId": "9b712e18-0ff1-4e67-e722-71fc1576b959"
      },
      "execution_count": null,
      "outputs": [
        {
          "output_type": "stream",
          "name": "stdout",
          "text": [
            "True\n"
          ]
        }
      ]
    },
    {
      "cell_type": "code",
      "source": [
        "print(1 and 0)"
      ],
      "metadata": {
        "colab": {
          "base_uri": "https://localhost:8080/"
        },
        "id": "jR5o0Y4LJwhN",
        "outputId": "ffa71fe5-ece3-4e31-a0fa-224ba3d142ff"
      },
      "execution_count": null,
      "outputs": [
        {
          "output_type": "stream",
          "name": "stdout",
          "text": [
            "0\n"
          ]
        }
      ]
    },
    {
      "cell_type": "code",
      "source": [
        "print(1 or 0)"
      ],
      "metadata": {
        "colab": {
          "base_uri": "https://localhost:8080/"
        },
        "id": "IhW8tWETJ0M6",
        "outputId": "1415d7a2-9301-4427-bba3-666a42d7d80f"
      },
      "execution_count": null,
      "outputs": [
        {
          "output_type": "stream",
          "name": "stdout",
          "text": [
            "1\n"
          ]
        }
      ]
    },
    {
      "cell_type": "code",
      "source": [
        "print(1 and 0 or 1)"
      ],
      "metadata": {
        "colab": {
          "base_uri": "https://localhost:8080/"
        },
        "id": "G7mZXgi1J3FM",
        "outputId": "e602f9df-dd1d-476b-ccd1-f7126aa22524"
      },
      "execution_count": null,
      "outputs": [
        {
          "output_type": "stream",
          "name": "stdout",
          "text": [
            "1\n"
          ]
        }
      ]
    },
    {
      "cell_type": "code",
      "source": [
        "print(not 1)"
      ],
      "metadata": {
        "colab": {
          "base_uri": "https://localhost:8080/"
        },
        "id": "dBhI2BB6J8c4",
        "outputId": "9aced81b-f1b5-43e8-c17d-85128e9fe224"
      },
      "execution_count": null,
      "outputs": [
        {
          "output_type": "stream",
          "name": "stdout",
          "text": [
            "False\n"
          ]
        }
      ]
    },
    {
      "cell_type": "markdown",
      "source": [
        "Memebership operator in and not in"
      ],
      "metadata": {
        "id": "ycMDeII1KJ3Z"
      }
    },
    {
      "cell_type": "code",
      "source": [
        "print('p' in 'daffodil')"
      ],
      "metadata": {
        "colab": {
          "base_uri": "https://localhost:8080/"
        },
        "id": "zZOyigctKNzT",
        "outputId": "9f149fc1-6cf2-4560-d928-581bb87f3531"
      },
      "execution_count": null,
      "outputs": [
        {
          "output_type": "stream",
          "name": "stdout",
          "text": [
            "False\n"
          ]
        }
      ]
    },
    {
      "cell_type": "code",
      "source": [
        "print('p' not in 'daffodil')"
      ],
      "metadata": {
        "colab": {
          "base_uri": "https://localhost:8080/"
        },
        "id": "Gr-5SPsLKS4Y",
        "outputId": "d18ec903-984d-49d8-e288-32f63d570d4b"
      },
      "execution_count": null,
      "outputs": [
        {
          "output_type": "stream",
          "name": "stdout",
          "text": [
            "True\n"
          ]
        }
      ]
    },
    {
      "cell_type": "code",
      "source": [
        "print('p' in 'phidaphobia')"
      ],
      "metadata": {
        "colab": {
          "base_uri": "https://localhost:8080/"
        },
        "id": "MyfmWcyVKWV7",
        "outputId": "07f26a98-424f-493d-a72e-5056d53d39c3"
      },
      "execution_count": null,
      "outputs": [
        {
          "output_type": "stream",
          "name": "stdout",
          "text": [
            "True\n"
          ]
        }
      ]
    },
    {
      "cell_type": "code",
      "source": [
        "print(5)\n",
        "print(9)\n",
        "print(10)"
      ],
      "metadata": {
        "colab": {
          "base_uri": "https://localhost:8080/"
        },
        "id": "0G19ouLzKcR-",
        "outputId": "39cde17f-b348-4d93-f72b-5a89d26bd62c"
      },
      "execution_count": null,
      "outputs": [
        {
          "output_type": "stream",
          "name": "stdout",
          "text": [
            "5\n",
            "9\n",
            "10\n"
          ]
        }
      ]
    },
    {
      "cell_type": "code",
      "source": [
        "from re import I\n",
        "a=int(input())\n",
        "total=0\n",
        "for i in range(1,a):\n",
        "  total+=i\n",
        "  print(total)"
      ],
      "metadata": {
        "colab": {
          "base_uri": "https://localhost:8080/"
        },
        "id": "lZnpguZZL-Oc",
        "outputId": "718dba9b-51b9-44d0-f0b5-bb5593e5282e"
      },
      "execution_count": null,
      "outputs": [
        {
          "output_type": "stream",
          "name": "stdout",
          "text": [
            "100\n",
            "1\n",
            "3\n",
            "6\n",
            "10\n",
            "15\n",
            "21\n",
            "28\n",
            "36\n",
            "45\n",
            "55\n",
            "66\n",
            "78\n",
            "91\n",
            "105\n",
            "120\n",
            "136\n",
            "153\n",
            "171\n",
            "190\n",
            "210\n",
            "231\n",
            "253\n",
            "276\n",
            "300\n",
            "325\n",
            "351\n",
            "378\n",
            "406\n",
            "435\n",
            "465\n",
            "496\n",
            "528\n",
            "561\n",
            "595\n",
            "630\n",
            "666\n",
            "703\n",
            "741\n",
            "780\n",
            "820\n",
            "861\n",
            "903\n",
            "946\n",
            "990\n",
            "1035\n",
            "1081\n",
            "1128\n",
            "1176\n",
            "1225\n",
            "1275\n",
            "1326\n",
            "1378\n",
            "1431\n",
            "1485\n",
            "1540\n",
            "1596\n",
            "1653\n",
            "1711\n",
            "1770\n",
            "1830\n",
            "1891\n",
            "1953\n",
            "2016\n",
            "2080\n",
            "2145\n",
            "2211\n",
            "2278\n",
            "2346\n",
            "2415\n",
            "2485\n",
            "2556\n",
            "2628\n",
            "2701\n",
            "2775\n",
            "2850\n",
            "2926\n",
            "3003\n",
            "3081\n",
            "3160\n",
            "3240\n",
            "3321\n",
            "3403\n",
            "3486\n",
            "3570\n",
            "3655\n",
            "3741\n",
            "3828\n",
            "3916\n",
            "4005\n",
            "4095\n",
            "4186\n",
            "4278\n",
            "4371\n",
            "4465\n",
            "4560\n",
            "4656\n",
            "4753\n",
            "4851\n",
            "4950\n"
          ]
        }
      ]
    },
    {
      "cell_type": "code",
      "source": [
        "for i in range(1,11):\n",
        "  if i%2 ==0:\n",
        "    print(f\"{i}\" is 'Even')"
      ],
      "metadata": {
        "colab": {
          "base_uri": "https://localhost:8080/"
        },
        "id": "f3_hpqiUM_eK",
        "outputId": "da3c3118-9c43-4670-80f9-5aca7b7800df"
      },
      "execution_count": null,
      "outputs": [
        {
          "output_type": "stream",
          "name": "stdout",
          "text": [
            "False\n",
            "False\n",
            "False\n",
            "False\n",
            "False\n"
          ]
        },
        {
          "output_type": "stream",
          "name": "stderr",
          "text": [
            "<>:3: SyntaxWarning: \"is\" with a literal. Did you mean \"==\"?\n",
            "<>:3: SyntaxWarning: \"is\" with a literal. Did you mean \"==\"?\n",
            "<ipython-input-23-393b3ec72005>:3: SyntaxWarning: \"is\" with a literal. Did you mean \"==\"?\n",
            "  print(f\"{i}\" is 'Even')\n"
          ]
        }
      ]
    },
    {
      "cell_type": "code",
      "source": [
        "for ch in \"python\":\n",
        "  print(ch)"
      ],
      "metadata": {
        "colab": {
          "base_uri": "https://localhost:8080/"
        },
        "id": "thGvhw-FQhXT",
        "outputId": "bdbc7f2d-f481-440b-d9e0-1627e6b09897"
      },
      "execution_count": null,
      "outputs": [
        {
          "output_type": "stream",
          "name": "stdout",
          "text": [
            "p\n",
            "y\n",
            "t\n",
            "h\n",
            "o\n",
            "n\n"
          ]
        }
      ]
    },
    {
      "cell_type": "code",
      "source": [
        "n=int(input())\n",
        "fact =1\n",
        "for i in range(1,n+1):\n",
        "  fact*=i\n",
        "  print(\"Factorial:\",fact)\n"
      ],
      "metadata": {
        "colab": {
          "base_uri": "https://localhost:8080/"
        },
        "id": "s4kPaY5ZRKO1",
        "outputId": "1af88725-97c3-4767-e4c5-e14e6c83eea2"
      },
      "execution_count": null,
      "outputs": [
        {
          "output_type": "stream",
          "name": "stdout",
          "text": [
            "12\n",
            "Factorial: 1\n",
            "Factorial: 2\n",
            "Factorial: 6\n",
            "Factorial: 24\n",
            "Factorial: 120\n",
            "Factorial: 720\n",
            "Factorial: 5040\n",
            "Factorial: 40320\n",
            "Factorial: 362880\n",
            "Factorial: 3628800\n",
            "Factorial: 39916800\n",
            "Factorial: 479001600\n"
          ]
        }
      ]
    }
  ]
}